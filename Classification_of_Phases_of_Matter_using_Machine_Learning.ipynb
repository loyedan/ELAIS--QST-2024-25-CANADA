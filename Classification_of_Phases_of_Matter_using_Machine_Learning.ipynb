{
  "nbformat": 4,
  "nbformat_minor": 0,
  "metadata": {
    "colab": {
      "provenance": [],
      "authorship_tag": "ABX9TyOzbG7IGztWzZ9WGNNFEmYa",
      "include_colab_link": true
    },
    "kernelspec": {
      "name": "python3",
      "display_name": "Python 3"
    },
    "language_info": {
      "name": "python"
    }
  },
  "cells": [
    {
      "cell_type": "markdown",
      "metadata": {
        "id": "view-in-github",
        "colab_type": "text"
      },
      "source": [
        "<a href=\"https://colab.research.google.com/github/loyedan/ELAIS--QST-2024-25-CANADA/blob/main/Classification_of_Phases_of_Matter_using_Machine_Learning.ipynb\" target=\"_parent\"><img src=\"https://colab.research.google.com/assets/colab-badge.svg\" alt=\"Open In Colab\"/></a>"
      ]
    },
    {
      "cell_type": "markdown",
      "source": [
        "# **Classification of Phases of Matter using Machine Learning**"
      ],
      "metadata": {
        "id": "u7B8zCst3Ed9"
      }
    },
    {
      "cell_type": "markdown",
      "source": [
        "## **Basics of Machine Learning**"
      ],
      "metadata": {
        "id": "Nj9-D6Ip4ET_"
      }
    },
    {
      "cell_type": "markdown",
      "source": [
        "1. Supervised Learning\n",
        "2. Unsupervised learning\n",
        "3. Reinforcement learning\n",
        "\n",
        "Neural Networks are biologically inspired"
      ],
      "metadata": {
        "id": "qA_0d9a5B6vo"
      }
    }
  ]
}