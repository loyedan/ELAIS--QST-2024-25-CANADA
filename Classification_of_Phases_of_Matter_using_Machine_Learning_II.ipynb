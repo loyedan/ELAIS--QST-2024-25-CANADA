{
  "nbformat": 4,
  "nbformat_minor": 0,
  "metadata": {
    "colab": {
      "provenance": [],
      "authorship_tag": "ABX9TyOeg/NTIWV1x4gWzUX7nzbC",
      "include_colab_link": true
    },
    "kernelspec": {
      "name": "python3",
      "display_name": "Python 3"
    },
    "language_info": {
      "name": "python"
    }
  },
  "cells": [
    {
      "cell_type": "markdown",
      "metadata": {
        "id": "view-in-github",
        "colab_type": "text"
      },
      "source": [
        "<a href=\"https://colab.research.google.com/github/loyedan/ELAIS--QST-2024-25-CANADA/blob/main/Classification_of_Phases_of_Matter_using_Machine_Learning_II.ipynb\" target=\"_parent\"><img src=\"https://colab.research.google.com/assets/colab-badge.svg\" alt=\"Open In Colab\"/></a>"
      ]
    },
    {
      "cell_type": "markdown",
      "source": [
        "# **Classification of Phases of Matter using Machine Learning II **"
      ],
      "metadata": {
        "id": "G0R9gTy1GQNE"
      }
    },
    {
      "cell_type": "markdown",
      "source": [
        "1. Mathematics of feed-forward Neural Network\n"
      ],
      "metadata": {
        "id": "eyRsEBmsIYc-"
      }
    },
    {
      "cell_type": "markdown",
      "source": [
        "Search for activiation functions in machine learning"
      ],
      "metadata": {
        "id": "_URNgSxxMzOM"
      }
    },
    {
      "cell_type": "code",
      "execution_count": null,
      "metadata": {
        "id": "mC1wl5HdGMnd"
      },
      "outputs": [],
      "source": []
    }
  ]
}